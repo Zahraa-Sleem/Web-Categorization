{
  "cells": [
    {
      "cell_type": "code",
      "execution_count": 419,
      "metadata": {
        "id": "aiNgESMui4ff"
      },
      "outputs": [],
      "source": [
        "import os\n",
        "import re\n",
        "import shutil\n",
        "import string\n",
        "from collections import Counter\n",
        "import pandas as pd\n",
        "import numpy as np\n",
        "import sklearn\n",
        "from sklearn.model_selection import train_test_split"
      ]
    },
    {
      "cell_type": "code",
      "execution_count": 420,
      "metadata": {
        "id": "B4mNZFi8i4fg"
      },
      "outputs": [],
      "source": [
        "def get_category(category):\n",
        "    if category == 'Adult':\n",
        "        return 15\n",
        "    elif category == 'Business/Corporate':\n",
        "        return 14\n",
        "    elif category == 'E-Commerce':\n",
        "        return 13\n",
        "    elif category == 'Computers and Technology':\n",
        "        return 12\n",
        "    elif category == 'Travel':\n",
        "        return 11\n",
        "    elif category == 'Sports':\n",
        "        return 10\n",
        "    elif category == 'Food':\n",
        "        return 9\n",
        "    elif category == 'Education':\n",
        "        return 8\n",
        "    elif category == 'Law and Government':\n",
        "        return 7\n",
        "    elif category == 'Games':\n",
        "        return 6\n",
        "    elif category == 'Streaming Services':\n",
        "        return 5\n",
        "    elif category == 'Health and Fitness':\n",
        "        return 4\n",
        "    elif category == 'News':\n",
        "        return 3\n",
        "    elif category == 'Social Networking and Messaging':\n",
        "        return 2\n",
        "    elif category == 'Forums':\n",
        "        return 1\n",
        "    elif category == 'Photography':\n",
        "        return 0"
      ]
    },
    {
      "cell_type": "code",
      "execution_count": 421,
      "metadata": {
        "id": "ddnVNGM6i4fg"
      },
      "outputs": [],
      "source": [
        "import pandas as pd\n",
        "from sklearn.model_selection import train_test_split\n",
        "\n",
        "# Load the XLSX file\n",
        "xlsx_file_path = 'website_classification.xlsx'\n",
        "data = pd.read_excel(xlsx_file_path)\n",
        "\n",
        "# Shuffle the rows randomly\n",
        "data = data.sample(frac=1, random_state=42)\n",
        "\n",
        "# Split the data into training (70%), validation (10%), and testing (20%)\n",
        "train_data, temp_data = train_test_split(data, test_size=0.3, random_state=42)\n",
        "valid_data, test_data = train_test_split(temp_data, test_size=2/3, random_state=42)\n",
        "\n",
        "# Save the training, validation, and testing data to separate XLSX files\n",
        "train_data.to_excel('training.xlsx', index=False)\n",
        "valid_data.to_excel('validation.xlsx', index=False)\n",
        "test_data.to_excel('testing.xlsx', index=False)\n",
        "\n"
      ]
    },
    {
      "cell_type": "code",
      "execution_count": 422,
      "metadata": {
        "id": "kkat2_vGi4fg"
      },
      "outputs": [],
      "source": [
        "#X_train ,Y_train,X_test,Y_test\n",
        "testing_file_path = 'testing.xlsx'\n",
        "trainingdata = pd.read_excel(testing_file_path)\n",
        "training_file_path = 'training.xlsx'\n",
        "testingdata = pd.read_excel(testing_file_path)\n",
        "validation_file_path = 'validation.xlsx'\n",
        "validationdata = pd.read_excel(validation_file_path)\n",
        "X_train=trainingdata['cleaned_website_text']\n",
        "Y_train=trainingdata['Category'].apply(get_category)\n",
        "X_validate=validationdata['cleaned_website_text']\n",
        "Y_validate=validationdata['Category'].apply(get_category)\n",
        "X_test=testingdata['cleaned_website_text']\n",
        "Y_test=testingdata['Category'].apply(get_category)\n",
        "\n",
        "train_dat =list(zip(Y_train,X_train))\n",
        "test_dat =list(zip(Y_test,X_test))\n",
        "valid_dat=list(zip(Y_validate,X_validate))"
      ]
    },
    {
      "cell_type": "code",
      "execution_count": 423,
      "metadata": {
        "id": "JBHyUxWBi4fh"
      },
      "outputs": [],
      "source": [
        "import torch\n",
        "from torch.utils.data import DataLoader\n",
        "device = torch.device(\"cpu\")"
      ]
    },
    {
      "cell_type": "code",
      "execution_count": 424,
      "metadata": {
        "id": "s-MdunWmi4fh"
      },
      "outputs": [],
      "source": [
        "from torchtext.data.utils import get_tokenizer\n",
        "from torchtext.vocab import build_vocab_from_iterator\n",
        "\n",
        "tokenizer = get_tokenizer('basic_english')\n",
        "train_iter = train_dat\n",
        "def yield_tokens(data_iter):\n",
        "    for _, text in data_iter:\n",
        "        yield tokenizer(text)\n",
        "\n",
        "vocab = build_vocab_from_iterator(yield_tokens(train_iter), specials=[\"<unk>\"])\n",
        "vocab.set_default_index(vocab[\"<unk>\"])"
      ]
    },
    {
      "cell_type": "code",
      "execution_count": 425,
      "metadata": {
        "id": "BZioPQp6i4fh"
      },
      "outputs": [],
      "source": [
        "text_pipeline = lambda x: vocab(tokenizer(x))\n",
        "category_pipeline = lambda x: int(x)"
      ]
    },
    {
      "cell_type": "code",
      "execution_count": 426,
      "metadata": {
        "id": "5sp1WWZ3i4fh"
      },
      "outputs": [],
      "source": [
        "def collate_batch(batch):\n",
        "    label_list, text_list, offsets = [], [], [0]\n",
        "    for (_label, _text) in batch:\n",
        "         label_list.append(category_pipeline(_label))\n",
        "         processed_text = torch.tensor(text_pipeline(_text), dtype=torch.int64).to_dense()\n",
        "         text_list.append(processed_text)\n",
        "         offsets.append(processed_text.size(0))\n",
        "    label_list = torch.tensor(label_list, dtype=torch.int64).to_dense()\n",
        "    offsets = torch.tensor(offsets[:-1]).cumsum(dim=0).to_dense()\n",
        "    text_list = torch.cat(text_list)\n",
        "    return label_list.to(device), text_list.to(device), offsets.to(device)"
      ]
    },
    {
      "cell_type": "code",
      "execution_count": 427,
      "metadata": {
        "id": "JmawN3ssi4fh"
      },
      "outputs": [],
      "source": [
        "from torch import nn\n",
        "import torch.nn.functional as F\n",
        "\n",
        "\n",
        "class TextClassificationModel(nn.Module):\n",
        "\n",
        "    def __init__(self, vocab_size, embed_dim, num_class):\n",
        "        super(TextClassificationModel, self).__init__()\n",
        "        self.embedding = nn.EmbeddingBag(vocab_size, embed_dim, sparse=True)\n",
        "        self.fc1 = nn.Linear(embed_dim,512)\n",
        "        self.fc2 = nn.Linear(512,512)\n",
        "        self.fc3 = nn.Linear(512,512)\n",
        "        self.fc4 = nn.Linear(512,512)\n",
        "        self.fc5 = nn.Linear(512,512)\n",
        "        self.fc6 = nn.Linear(512,512)\n",
        "        self.fc7 = nn.Linear(512,512)\n",
        "        self.fc8 = nn.Linear(512, num_class)\n",
        "        self.init_weights()\n",
        "\n",
        "    def init_weights(self):\n",
        "        initrange = 0.5\n",
        "        self.embedding.weight.data.uniform_(-initrange, initrange)\n",
        "        self.fc1.weight.data.uniform_(-initrange, initrange)\n",
        "        self.fc1.bias.data.zero_()\n",
        "        self.fc2.weight.data.uniform_(-initrange, initrange)\n",
        "        self.fc2.bias.data.zero_()\n",
        "        self.fc3.weight.data.uniform_(-initrange, initrange)\n",
        "        self.fc3.bias.data.zero_()\n",
        "        self.fc4.weight.data.uniform_(-initrange, initrange)\n",
        "        self.fc4.bias.data.zero_()\n",
        "        self.fc5.weight.data.uniform_(-initrange, initrange)\n",
        "        self.fc5.bias.data.zero_()\n",
        "        self.fc6.weight.data.uniform_(-initrange, initrange)\n",
        "        self.fc6.bias.data.zero_()\n",
        "        self.fc7.weight.data.uniform_(-initrange, initrange)\n",
        "        self.fc7.bias.data.zero_()\n",
        "        self.fc8.weight.data.uniform_(-initrange, initrange)\n",
        "        self.fc8.bias.data.zero_()\n",
        "\n",
        "    def forward(self, text, offsets):\n",
        "        embedded = self.embedding(text, offsets)\n",
        "        x = F.relu(self.fc1(embedded))\n",
        "        x = F.relu(self.fc2(x))\n",
        "        x = F.relu(self.fc3(x))\n",
        "        x = F.relu(self.fc4(x))\n",
        "        x = F.relu(self.fc5(x))\n",
        "        x = F.relu(self.fc6(x))\n",
        "        x = F.relu(self.fc7(x))\n",
        "        x = self.fc8(x)\n",
        "        return x"
      ]
    },
    {
      "cell_type": "code",
      "execution_count": 428,
      "metadata": {
        "id": "5SV2xqN3i4fh"
      },
      "outputs": [],
      "source": [
        "train_iter1 = train_dat\n",
        "num_class = len(set([Category for (Category,cleaned_website_text ) in train_iter1]))\n",
        "vocab_size = len(vocab)\n",
        "emsize = 512\n",
        "model = TextClassificationModel(vocab_size, emsize, num_class)\n",
        "model=model.to(device)"
      ]
    },
    {
      "cell_type": "code",
      "execution_count": 429,
      "metadata": {
        "id": "XL3PWGxni4fi"
      },
      "outputs": [],
      "source": [
        "import time\n",
        "\n",
        "def train(dataloader):\n",
        "    model.train()\n",
        "    total_acc, total_count = 0, 0\n",
        "    log_interval = 500\n",
        "    start_time = time.time()\n",
        "\n",
        "    for idx, (Category, cleaned_website_textext, offsets) in enumerate(dataloader):\n",
        "        optimizer.zero_grad()\n",
        "        predited_label = model(cleaned_website_textext, offsets)\n",
        "        loss = criterion(predited_label, Category)\n",
        "        loss.backward()\n",
        "        # Manually clip gradients\n",
        "        max_norm = 0.1  # Your desired maximum gradient norm\n",
        "        total_norm = 0.0\n",
        "\n",
        "        for param in model.parameters():\n",
        "            if param.grad is not None:\n",
        "                param_norm = param.grad.data.norm(2)\n",
        "                total_norm += param_norm.item() ** 2\n",
        "\n",
        "        total_norm = total_norm ** 0.5\n",
        "        clip_coef = max_norm / (total_norm + 1e-6)\n",
        "\n",
        "        if clip_coef < 1:\n",
        "            for param in model.parameters():\n",
        "                if param.grad is not None:\n",
        "                    param.grad.data.mul_(clip_coef)\n",
        "        optimizer.step()\n",
        "        total_acc += (predited_label.argmax(1) == Category).sum().item()\n",
        "        total_count += Category.size(0)\n",
        "        if idx % log_interval == 0 and idx > 0:\n",
        "            elapsed = time.time() - start_time\n",
        "            print('| epoch {:3d} | {:5d}/{:5d} batches '\n",
        "                  '| accuracy {:8.3f}'.format(epoch, idx, len(dataloader),\n",
        "                                              total_acc/total_count))\n",
        "            total_acc, total_count = 0, 0\n",
        "            start_time = time.time()\n",
        "def evaluate(dataloader):\n",
        "    model.eval()\n",
        "    total_acc, total_count = 0, 0\n",
        "\n",
        "    with torch.no_grad():\n",
        "        for idx, (label, text, offsets) in enumerate(dataloader):\n",
        "            predited_label = model(text, offsets)\n",
        "            loss = criterion(predited_label, label)\n",
        "            total_acc += (predited_label.argmax(1) == label).sum().item()\n",
        "            total_count += label.size(0)\n",
        "    return total_acc/total_count"
      ]
    },
    {
      "cell_type": "code",
      "execution_count": 430,
      "metadata": {
        "colab": {
          "base_uri": "https://localhost:8080/"
        },
        "id": "h76eRQYwi4fi",
        "outputId": "fb7269bb-1e5f-415b-8c28-cd90ecb4b9a3"
      },
      "outputs": [
        {
          "output_type": "stream",
          "name": "stdout",
          "text": [
            "-----------------------------------------------------------\n",
            "| end of epoch   1 | time:  1.23s | valid accuracy    0.504 \n",
            "-----------------------------------------------------------\n",
            "-----------------------------------------------------------\n",
            "| end of epoch   2 | time:  1.24s | valid accuracy    0.770 \n",
            "-----------------------------------------------------------\n",
            "-----------------------------------------------------------\n",
            "| end of epoch   3 | time:  1.59s | valid accuracy    0.794 \n",
            "-----------------------------------------------------------\n",
            "-----------------------------------------------------------\n",
            "| end of epoch   4 | time:  1.38s | valid accuracy    0.872 \n",
            "-----------------------------------------------------------\n",
            "-----------------------------------------------------------\n",
            "| end of epoch   5 | time:  1.31s | valid accuracy    0.940 \n",
            "-----------------------------------------------------------\n",
            "-----------------------------------------------------------\n",
            "| end of epoch   6 | time:  1.37s | valid accuracy    0.975 \n",
            "-----------------------------------------------------------\n",
            "-----------------------------------------------------------\n",
            "| end of epoch   7 | time:  1.27s | valid accuracy    0.979 \n",
            "-----------------------------------------------------------\n",
            "-----------------------------------------------------------\n",
            "| end of epoch   8 | time:  1.12s | valid accuracy    0.993 \n",
            "-----------------------------------------------------------\n"
          ]
        }
      ],
      "source": [
        "from torch.utils.data.dataset import random_split\n",
        "from torchtext.data.functional import to_map_style_dataset\n",
        "\n",
        "# Hyperparameters\n",
        "EPOCHS = 8 # epoch\n",
        "LR = 5  # learning rate\n",
        "BATCH_SIZE = 16 # batch size for training\n",
        "criterion = torch.nn.CrossEntropyLoss()\n",
        "optimizer = torch.optim.SGD(model.parameters(), lr=LR)\n",
        "scheduler = torch.optim.lr_scheduler.StepLR(optimizer, 1.0, gamma=0.1)\n",
        "total_accu = None\n",
        "\n",
        "train_iter2 = train_dat\n",
        "test_iter2 =test_dat\n",
        "valid_iter2=valid_dat\n",
        "train_dataloader = DataLoader(train_iter2, batch_size=BATCH_SIZE,\n",
        "                              shuffle=True, collate_fn=collate_batch)\n",
        "test_dataloader = DataLoader(test_iter2, batch_size=BATCH_SIZE,\n",
        "                             shuffle=True, collate_fn=collate_batch)\n",
        "valid_dataloader=DataLoader(valid_iter2, batch_size=BATCH_SIZE,\n",
        "                             shuffle=True, collate_fn=collate_batch)\n",
        "\n",
        "for epoch in range(1, EPOCHS + 1):\n",
        "    epoch_start_time = time.time()\n",
        "    train(train_dataloader)\n",
        "    accu_val = evaluate(test_dataloader)\n",
        "    if total_accu is not None and total_accu > accu_val:\n",
        "      scheduler.step()\n",
        "    else:\n",
        "       total_accu = accu_val\n",
        "    print('-' * 59)\n",
        "    print('| end of epoch {:3d} | time: {:5.2f}s | '\n",
        "          'valid accuracy {:8.3f} '.format(epoch,\n",
        "                                           time.time() - epoch_start_time,\n",
        "                                           accu_val))\n",
        "    print('-' * 59)"
      ]
    },
    {
      "cell_type": "code",
      "source": [
        "print('Checking the results of test dataset.')\n",
        "accu_test = evaluate(valid_dataloader)\n",
        "print('test accuracy {:8.3f}'.format(accu_test))"
      ],
      "metadata": {
        "colab": {
          "base_uri": "https://localhost:8080/"
        },
        "id": "_QQSwSMCzAO4",
        "outputId": "4547d4cc-fc3f-4da4-fb4e-1ca231afb6b5"
      },
      "execution_count": 431,
      "outputs": [
        {
          "output_type": "stream",
          "name": "stdout",
          "text": [
            "Checking the results of test dataset.\n",
            "test accuracy    0.752\n"
          ]
        }
      ]
    },
    {
      "cell_type": "code",
      "source": [
        "category_label = {\n",
        "                   15:\"Adult\",\n",
        "                   14: \"Business/Corporate\",\n",
        "                   13: \"E-Commerce\",\n",
        "                   12: \"Computers and Technology\",\n",
        "                   11: \"Travel\",\n",
        "                   10: \"Sports\",\n",
        "                   9: \"Food\",\n",
        "                   8:\"Education\",\n",
        "                   7:\"Law and Government\",\n",
        "                   6: \"Games\",\n",
        "                   5:\"Streaming Services\",\n",
        "                   4: \"Health and Fitness\" ,\n",
        "                   3: \"News\",\n",
        "                   2:\"Social Networking and Messaging\",\n",
        "                   1: \"Forums\",\n",
        "                   0: \"Photography\"\n",
        "}\n",
        "\n",
        "\n",
        "def predict(text, text_pipeline):\n",
        "    with torch.no_grad():\n",
        "        text = torch.tensor(text_pipeline(text)).to_dense()\n",
        "        output = model(text, torch.tensor([0]))\n",
        "        return output.argmax(1).item()\n",
        "ex_text_str = \"soooooo wish i could, but im in school and myspace is completely blocked\"\n",
        "model = model.to(\"cpu\")\n",
        "\n",
        "print(\"This is a %s tweet\" %category_label[predict(ex_text_str, text_pipeline)])"
      ],
      "metadata": {
        "colab": {
          "base_uri": "https://localhost:8080/"
        },
        "id": "Dyw60ie0zKwg",
        "outputId": "970c0b17-5a6c-453a-a6e2-38507f8d1de9"
      },
      "execution_count": 432,
      "outputs": [
        {
          "output_type": "stream",
          "name": "stdout",
          "text": [
            "This is a Education tweet\n"
          ]
        }
      ]
    }
  ],
  "metadata": {
    "kernelspec": {
      "display_name": "searchengine",
      "language": "python",
      "name": "python3"
    },
    "language_info": {
      "codemirror_mode": {
        "name": "ipython",
        "version": 3
      },
      "file_extension": ".py",
      "mimetype": "text/x-python",
      "name": "python",
      "nbconvert_exporter": "python",
      "pygments_lexer": "ipython3",
      "version": "3.9.18"
    },
    "colab": {
      "provenance": []
    }
  },
  "nbformat": 4,
  "nbformat_minor": 0
}